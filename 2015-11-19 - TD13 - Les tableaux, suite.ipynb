{
 "cells": [
  {
   "cell_type": "markdown",
   "metadata": {},
   "source": [
    "Durant ce TD, nous avons fait plusieurs exercices sur les tableaux, dont certains ne sont malheureusement pas corrigés ici, donc j'espère que vous avez pris des notes !"
   ]
  },
  {
   "cell_type": "markdown",
   "metadata": {},
   "source": [
    "Je vous ai également expliqué comment utiliser doctest sur vos installations Python respectives.\n",
    "\n",
    "Pour utiliser doctest avec Python IDLE\n",
    "import doctest # importe le module doctest dans votre code, c'est donc l'équivalent de python -m doctest\n",
    "doctest.testmod() # dis à doctest d'exécuter tous les tests du fichier\n",
    "\n",
    "Vous pouvez mettres des Flags dans les parenthèses de testmod() pour personnaliser l'affichage des résultats. Cf. la doc de doctest."
   ]
  },
  {
   "cell_type": "code",
   "execution_count": 1,
   "metadata": {
    "collapsed": true
   },
   "outputs": [],
   "source": [
    "%load_ext doctestmagic"
   ]
  },
  {
   "cell_type": "code",
   "execution_count": 2,
   "metadata": {
    "collapsed": false
   },
   "outputs": [
    {
     "name": "stdout",
     "output_type": "stream",
     "text": [
      "Ran 4 tests in 1 objects, 0 tests failed.\n",
      "Ran 4 tests in 1 objects, 0 tests failed.\n"
     ]
    }
   ],
   "source": [
    "# -*- coding: utf-8 -*-\n",
    "# Exercice : vérifier que deux tableaux sont égaux \n",
    "def tableaux_egaux(a, b):\n",
    "    \"\"\"\n",
    "    :entrée a: tableau de float\n",
    "    :entrée b: tableau de float\n",
    "    :sortie te: bool\n",
    "    :post-cond: te est True si et seulement si len(a) == len(b) et\n",
    "                ∀ i ∈ [0;len(a)[, a[i] == b[i]\n",
    "\n",
    "    >>> tableaux_egaux([1.0, 2.0, 4.0, 3.0], [1.0, 2.0, 4.0, 3.0])\n",
    "    True\n",
    "    >>> tableaux_egaux([1.0, 2.0, 4.0, 3.0], [9.0, 2.0, 4.0, 3.0])\n",
    "    False\n",
    "    >>> tableaux_egaux([1.0, 2.0, 4.0, 3.0], [1.0, 2.0, 4.0])\n",
    "    False\n",
    "    >>> tableaux_egaux([1.0, 2.0, 4.0], [1.0, 2.0, 4.0, 3.0])\n",
    "    False\n",
    "    \"\"\"\n",
    "\n",
    "    te = True\n",
    "    if len(a) == len(b):\n",
    "        for i in range(len(a)):\n",
    "            if a[i] != b[i]:\n",
    "                te = False\n",
    "    else:\n",
    "        te = False\n",
    "\n",
    "    return te\n",
    "\n",
    "\n",
    "# Exercice : vérifier qu'un tableau est préfixe d'un autre. \n",
    "def tableaux_prefixe(a, b):\n",
    "    '''\n",
    "    :entrée a: tableau de float\n",
    "    :entrée b: tableau de float\n",
    "    :sortie te: bool\n",
    "    :post-cond: te est True si et seulement si len(a) >= len(b) et\n",
    "                ∀ i ∈ [0;len(b)[, a[i] == b[i]\n",
    "\n",
    "    >>> tableaux_prefixe([1.0, 2.0, 4.0, 3.0], [1.0, 2.0, 4.0, 3.0])\n",
    "    True\n",
    "    >>> tableaux_prefixe([1.0, 2.0, 4.0, 3.0], [9.0, 2.0, 4.0, 3.0])\n",
    "    False\n",
    "    >>> tableaux_prefixe([1.0, 2.0, 4.0, 3.0], [1.0, 2.0, 4.0])\n",
    "    True\n",
    "    >>> tableaux_prefixe([1.0, 2.0, 4.0], [1.0, 2.0, 4.0, 3.0])\n",
    "    False\n",
    "    '''\n",
    "\n",
    "    te = True\n",
    "    if len(a)>=len(b):\n",
    "        for i in range (0, len(b)):\n",
    "            if a[i]!=b[i]:\n",
    "                te = False\n",
    "    else:\n",
    "        te = False\n",
    "    return te\n",
    "\n",
    "%doctest tableaux_prefixe\n",
    "%doctest tableaux_egaux"
   ]
  },
  {
   "cell_type": "code",
   "execution_count": null,
   "metadata": {
    "collapsed": true
   },
   "outputs": [],
   "source": []
  }
 ],
 "metadata": {
  "kernelspec": {
   "display_name": "Python 3",
   "language": "python",
   "name": "python3"
  },
  "language_info": {
   "codemirror_mode": {
    "name": "ipython",
    "version": 3
   },
   "file_extension": ".py",
   "mimetype": "text/x-python",
   "name": "python",
   "nbconvert_exporter": "python",
   "pygments_lexer": "ipython3",
   "version": "3.4.3"
  }
 },
 "nbformat": 4,
 "nbformat_minor": 0
}
