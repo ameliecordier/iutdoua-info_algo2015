{
 "cells": [
  {
   "cell_type": "markdown",
   "metadata": {},
   "source": [
    "**2015-09-10 - TD1 - Introduction à l'aglorithmique**\n",
    "\n",
    "Durant ce premier TD, vous avez découvert ce qu'est l'algorithmique au travers d'une [activité](http://liris.cnrs.fr/amelie.cordier/teaching/algo/aut2015/IntroAlAlgo.pdf) sur papier.\n",
    "Vous avez également réalisé quelques jeux pour vous initier à l'algo. \n",
    "\n",
    "Ce qu'il faut retenir de cette première activité : \n",
    "\n",
    "* Un algorithme est un processus systématique et rigoureuse de résolution de problème. \n",
    "* Les ordinateurs sont bêtes à manger du foin et ne sont pas capables de prendre d'initiative. Pour leur donner des instructions, il faut donc employer un langage qu'ils comprennent et s'en tenir **strictement** aux instructions nécessaires et suffisantes à la résolution d'un problème.\n",
    "* En conséquence, pour écrire des algorithmes, comme pour écrire des programmes, on utilisera un langage **formel** et **sans ambiguïté**. \n",
    "* De nombreux *langages* sont utilisés pour écrire des algorithmes (sous-ensemble du français, diagrammes, etc.). Ici, pour écrire nos algorithmes, nous utiliserons le [Python 3](https://www.python.org/). Ceci vous permettra de **tester** facilement vos algorithmes. \n",
    "\n",
    "Vous avez appris que vous alliez devoir **travailler régulièrement**, et **refaire tous les exercices**, si vous voulez **réussir** dans ce module. \n",
    "\n",
    "Dès la prochaine séance, nous commencerons à écrire des algorithmes en Python. \n",
    "\n",
    "\n",
    "\n"
   ]
  },
  {
   "cell_type": "code",
   "execution_count": 4,
   "metadata": {
    "collapsed": false
   },
   "outputs": [
    {
     "name": "stdout",
     "output_type": "stream",
     "text": [
      "36\n"
     ]
    }
   ],
   "source": [
    "nb_seances_algo = 18\n",
    "duree_seance_algo = 2\n",
    "nb_heures_algo = nb_seances_algo * duree_seance_algo\n",
    "print(nb_heures_algo)"
   ]
  }
 ],
 "metadata": {
  "celltoolbar": "Edit Metadata",
  "kernelspec": {
   "display_name": "Python 3",
   "language": "python",
   "name": "python3"
  },
  "language_info": {
   "codemirror_mode": {
    "name": "ipython",
    "version": 3
   },
   "file_extension": ".py",
   "mimetype": "text/x-python",
   "name": "python",
   "nbconvert_exporter": "python",
   "pygments_lexer": "ipython3",
   "version": "3.4.3"
  }
 },
 "nbformat": 4,
 "nbformat_minor": 0
}
