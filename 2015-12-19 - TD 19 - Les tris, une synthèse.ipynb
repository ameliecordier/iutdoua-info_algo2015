{
 "cells": [
  {
   "cell_type": "markdown",
   "metadata": {},
   "source": [
    "**Les tris**\n",
    "\n",
    "Ceci est un corrigé détaillé du chapitre \"Tris\" du cahier d'exercices disponible à cette adresse http://liris.cnrs.fr/~pchampin/enseignement/algo/exercices/tris.html\n",
    "\n",
    "On parle de tris, mais aussi de complexité algorithmique. "
   ]
  },
  {
   "cell_type": "markdown",
   "metadata": {},
   "source": [
    "Par conséquent, pour chaque algorithme, vous vous poserez les questions suivantes : combien d’étapes de calcul sont elles nécessaires :\n",
    "* dans le pire des cas ?\n",
    "* lorsque le tableau est déjà trié ?\n",
    "* lorsque le tableau est trié dans l’ordre décroissant ?\n"
   ]
  },
  {
   "cell_type": "code",
   "execution_count": null,
   "metadata": {
    "collapsed": true
   },
   "outputs": [],
   "source": [
    "# On commence par définir une petite méthode \"utilitaire\" qui va nous servir souvent.\n",
    "# permute permet de permuter deux éléments situés aux indices i et j d'un tableau.\n",
    "def permute(tab, i, j):\n",
    "    '''\n",
    "    :e/s: tab, un tableau d'éléments\n",
    "    :entrees i et j: (int) les indices des éléments à permuter\n",
    "    :pre-cond: i et j sont des indices valides dans tab\n",
    "    :post-cond: le tableau est modifié, deux valeurs sont perumtées\n",
    "    '''\n",
    "    temp = tab[i]\n",
    "    tab[i] = tab[j]\n",
    "    tab[j] = temp"
   ]
  },
  {
   "cell_type": "code",
   "execution_count": null,
   "metadata": {
    "collapsed": true
   },
   "outputs": [],
   "source": [
    "# Tri par sélection\n",
    "# Rappel : on recherche le minimum du tableau, et on le permute avec l'élément dans la première case.\n",
    "#          Ensuite, on recherche le minimum dans le reste du tableau, et on le permute avec l'élément dans la 2ème case.\n",
    "#          Et ainsi de suite...\n",
    "\n",
    "\n",
    "def triSelection(tab):\n",
    "    '''\n",
    "    :e/s tab: tableau (de float)\n",
    "    :post-cond:\n",
    "       - ∀ i ∈ [0;len(tab)[, ∃ j ∈ [0;len(tab)[,  tabₛ[j] = tabₑ[i]\n",
    "         (les éléments de tab ont simplent changé d'ordre)\n",
    "       - ∀ i ∈ [1;len(tab)[,  tabₛ[i] ≥ tabₛ[i-1]\n",
    "         (les éléments de tab sont triés par valeur croissante)\n",
    "    :complexité : 𝓞(n²)\n",
    "    '''\n",
    "    for i in range(len(tab)-1):\n",
    "        indice_min = i\n",
    "        \n",
    "        # Boucle de recherche du minimum dans le tableau restant\n",
    "        for j in range(i+1,len(tab)):\n",
    "            if tab[j]<tab[indice_min]: \n",
    "                indice_min=j\n",
    "        \n",
    "        # Une fois le min trouvé, on le permute pour le mettre à sa place\n",
    "        permute(tab, i, indice_min)\n",
    "        "
   ]
  },
  {
   "cell_type": "code",
   "execution_count": null,
   "metadata": {
    "collapsed": true
   },
   "outputs": [],
   "source": [
    "# Tri par insertion \n",
    "# Rappel : on considère que le \"début\" du tableau est trié. \n",
    "#          On se place au niveau de la première valeur non triée, et on la décale à gauche jusqu'à ce qu'elle trouve sa place\n",
    "#          Observez que la partie gauche du tableau est déjà triée... \n",
    "\n",
    "\n",
    "# On commence par écrire une petite fonction utilitaire (une autre).\n",
    "# Cette fonction prend un élément à un indice i, et le décale sur \n",
    "#   sa gauche jusqu'à ce qu'il soit à sa place... en faisant \n",
    "#   l'hypothèse que tous les éléments sur sa gauche sont bien triés.\n",
    "\n",
    "def insereElt(tab, i):\n",
    "    '''\n",
    "    :e/s tab: tableau d'éléments\n",
    "    :entrée i: int\n",
    "    :pré-cond:\n",
    "       - 1 ≤ i < len(tab)\n",
    "       - ∀ j ∈ [1;i[,  tab[j] ≥ tab[j-1]  (tab est trié entre 0 et i-1)\n",
    "    :post-cond:\n",
    "       - ∀ j ∈ [0;i+1[, ∃ k ∈ [0;i+1[,  tabₛ[k] = tabₑ[j]\n",
    "         (les éléments entre 0 et i+1 ont simplement changé d'ordre)\n",
    "       - ∀ j ∈ [i+1;len(tab)[,  tabₛ[j] = tabₑ[j]\n",
    "         (les éléments au delà de i n'ont pas été modifiés)\n",
    "       - ∀ j ∈ [1;i+1[,  tab[j] ≥ tab[j-1]\n",
    "         (tab est trié entre 0 et i)\n",
    "    '''\n",
    "    while (tab[i-1] > tab[i]) and i>0 :\n",
    "        permute(tab, i, i-1)\n",
    "        i -= 1   \n",
    "\n",
    "# On écrit ensuite l'algo principal qui consiste à prendre\n",
    "#  tour à tour chaque élément \"non trié\", et à l'insérer dans\n",
    "#  le tableau trié (c'est-à-dire à le décaler jusqu'à sa bonne\n",
    "#  place sur sa gauche). \n",
    "def triInsertion(tab):\n",
    "    '''\n",
    "    :e/s tab: tableau d'éléments\n",
    "    :pré- et post-conditions usuelles\n",
    "    '''\n",
    "    for i in range(1,len(tab)):\n",
    "        insereElt(tab, i)\n"
   ]
  },
  {
   "cell_type": "code",
   "execution_count": 2,
   "metadata": {
    "collapsed": true
   },
   "outputs": [],
   "source": [
    "# Tri binaire, ou quicksort\n",
    "# Le quicksort est un tri récursif par excellence. \n",
    "# Le principe est que l'on choisit une valeur pivot, \n",
    "#   on range toutes les valeurs plus petites que le pivot à gauche du pivot\n",
    "#   et toutes les valeurs plus grandes à droite. \n",
    "# Ensuite, on applique la même démarche sur les sous-tableaux gauche et droite. \n",
    "# Une simulation intéressante est disponible ici : \n",
    "# http://interactivepython.org/runestone/static/pythonds/SortSearch/TheQuickSort.html\n",
    "\n",
    "\n",
    "# On définit une méthode utilitaire qui va nous aider à partitionner notre tableau autour d'un pivot\n",
    "def partitionne(tab, imin, imax):\n",
    "    '''\n",
    "    :e/s tab: tableau d'éléments \n",
    "    :entrée imin: int\n",
    "    :entrée imax: int\n",
    "    :sortie idroite: int\n",
    "    :pré-cond: 0 ≤ imin ≤ imax < len(tab)\n",
    "    :post-cond:\n",
    "       - imin ≤ idroite ≤ imax\n",
    "       - ∀ i ∈ [0;imin[ U ]imax;len(tab)[, tabₛ[i] = tabₑ[i]\n",
    "         (tab n'est pas modifié en dehors de la plage [imin;imax])\n",
    "       - ∀ i ∈ [imin;imax], ∃ j ∈ [imin;imax],  tabₛ[j] = tabₑ[i]\n",
    "         (les éléments de tab ont simplent changé d'ordre entre imin et imax)\n",
    "       - ∀ i ∈ [imin;idroite], tabₛ[i] ≤ tabₛ[idroite]\n",
    "         (les éléments à gauche du pivot lui sont inférieurs ou égaux)\n",
    "       - ∀ i ∈ ]idroite;imax], tabₛ[i] > tabₛ[idroite]\n",
    "         (les éléments à droite du pivot lui sont supérieurs)\n",
    "    '''\n",
    "    pivot = tab[imin] # On choisit arbitrairement le premier élément comme pivot \n",
    "\n",
    "    igauche = imin + 1\n",
    "    idroite = imax\n",
    "    fini = False\n",
    "    while not fini:\n",
    "        while igauche <= idroite and tab[igauche] <= pivot:\n",
    "            igauche = igauche + 1\n",
    "        while tab[idroite] >= pivot and idroite >= igauche:\n",
    "            idroite = idroite - 1\n",
    "        if idroite < igauche:\n",
    "            fini= True\n",
    "        else:\n",
    "            temp = tab[igauche]\n",
    "            tab[igauche] = tab[idroite]\n",
    "            tab[idroite] = temp\n",
    "            #permute(tab, igauche, idroite)\n",
    "    temp = tab[imin]\n",
    "    tab[imin] = tab[idroite]\n",
    "    tab[idroite] = temp\n",
    "    #permute(tab, imin, imax)\n",
    "    return idroite\n",
    "\n",
    "\n",
    "# Si notre tableau n'est pas vide, on appelle tri_rec :\n",
    "# Sinon, le tableau vide n'est pas modifié. \n",
    "def triRecursif(tab):\n",
    "    if len(tab) > 0:\n",
    "        tri_rec(tab, 0, len(tab)-1)\n",
    "\n",
    "def tri_rec(tab, imin, imax):\n",
    "    '''\n",
    "    :e/s tab: tableau d'éléments\n",
    "    :entrée imin: int\n",
    "    :entrée imax: int\n",
    "    :pré-cond: 0 ≤ imin ≤ imax < len(tab) (les indices existent dans le tableau)\n",
    "    :post-cond:\n",
    "       - ∀ i ∈ [0;imin[ U ]imax;len(tab)[, tabₛ[i] = tabₑ[i]\n",
    "         (tab n'est pas modifié en dehors de la plage [imin;imax])\n",
    "       - ∀ i ∈ [imin;imax], ∃ j ∈ [imin;imax],  tabₛ[j] = tabₑ[i]\n",
    "         (les éléments de tab ont simplent changé d'ordre entre imin et imax)\n",
    "       - ∀ i ∈ [imin;imax[,  tabₛ[i+1] ≥ tabₛ[i]\n",
    "         (tab est trié entre imin et imax)\n",
    "    '''\n",
    "    if imin < imax:\n",
    "        # partition the list\n",
    "        pivot = partitionne(tab, imin, imax)\n",
    "        # sort both halves\n",
    "        tri_rec(tab, imin, pivot-1)\n",
    "        tri_rec(tab, pivot+1, imax)\n",
    "    return tab"
   ]
  },
  {
   "cell_type": "code",
   "execution_count": 1,
   "metadata": {
    "collapsed": false,
    "scrolled": true
   },
   "outputs": [
    {
     "ename": "NameError",
     "evalue": "name 'tri_rec' is not defined",
     "output_type": "error",
     "traceback": [
      "\u001b[1;31m---------------------------------------------------------------------------\u001b[0m",
      "\u001b[1;31mNameError\u001b[0m                                 Traceback (most recent call last)",
      "\u001b[1;32m<ipython-input-1-f593a024c94d>\u001b[0m in \u001b[0;36m<module>\u001b[1;34m()\u001b[0m\n\u001b[0;32m      1\u001b[0m \u001b[1;31m# Outil pour tester les algos de tri à la main\u001b[0m\u001b[1;33m\u001b[0m\u001b[1;33m\u001b[0m\u001b[0m\n\u001b[0;32m      2\u001b[0m \u001b[0mtableauATrier\u001b[0m \u001b[1;33m=\u001b[0m \u001b[1;33m[\u001b[0m\u001b[1;36m42\u001b[0m\u001b[1;33m,\u001b[0m\u001b[1;36m1\u001b[0m\u001b[1;33m,\u001b[0m\u001b[1;36m6\u001b[0m\u001b[1;33m,\u001b[0m\u001b[1;36m8\u001b[0m\u001b[1;33m,\u001b[0m\u001b[1;36m9\u001b[0m\u001b[1;33m,\u001b[0m\u001b[1;36m2\u001b[0m\u001b[1;33m,\u001b[0m\u001b[1;36m4\u001b[0m\u001b[1;33m,\u001b[0m\u001b[1;36m7\u001b[0m\u001b[1;33m,\u001b[0m\u001b[1;36m3\u001b[0m\u001b[1;33m,\u001b[0m\u001b[1;36m19\u001b[0m\u001b[1;33m,\u001b[0m\u001b[1;36m34\u001b[0m\u001b[1;33m,\u001b[0m\u001b[1;36m23\u001b[0m\u001b[1;33m,\u001b[0m\u001b[1;36m67\u001b[0m\u001b[1;33m,\u001b[0m\u001b[1;36m45\u001b[0m\u001b[1;33m,\u001b[0m\u001b[1;36m23\u001b[0m\u001b[1;33m,\u001b[0m\u001b[1;36m105\u001b[0m\u001b[1;33m,\u001b[0m\u001b[1;36m18\u001b[0m\u001b[1;33m,\u001b[0m\u001b[1;36m190\u001b[0m\u001b[1;33m,\u001b[0m\u001b[1;36m20\u001b[0m\u001b[1;33m]\u001b[0m\u001b[1;33m\u001b[0m\u001b[0m\n\u001b[1;32m----> 3\u001b[1;33m \u001b[0mtri_rec\u001b[0m\u001b[1;33m(\u001b[0m\u001b[0mtableauATrier\u001b[0m\u001b[1;33m,\u001b[0m \u001b[1;36m0\u001b[0m\u001b[1;33m,\u001b[0m \u001b[0mlen\u001b[0m\u001b[1;33m(\u001b[0m\u001b[0mtableauATrier\u001b[0m\u001b[1;33m)\u001b[0m\u001b[1;33m-\u001b[0m\u001b[1;36m1\u001b[0m\u001b[1;33m)\u001b[0m\u001b[1;33m\u001b[0m\u001b[0m\n\u001b[0m\u001b[0;32m      4\u001b[0m \u001b[0mprint\u001b[0m\u001b[1;33m(\u001b[0m\u001b[0mtableauATrier\u001b[0m\u001b[1;33m)\u001b[0m\u001b[1;33m\u001b[0m\u001b[0m\n",
      "\u001b[1;31mNameError\u001b[0m: name 'tri_rec' is not defined"
     ]
    }
   ],
   "source": [
    "# Outil pour tester les algos de tri à la main \n",
    "tableauATrier = [42,1,6,8,9,2,4,7,3,19,34,23,67,45,23,105,18,190,20]\n",
    "tri_rec(tableauATrier, 0, len(tableauATrier)-1)\n",
    "print(tableauATrier)"
   ]
  },
  {
   "cell_type": "code",
   "execution_count": null,
   "metadata": {
    "collapsed": false
   },
   "outputs": [],
   "source": [
    "# Comparaison des différents tris\n",
    "import time\n",
    "import random\n",
    "\n",
    "# Génération d'un tableau à trier \n",
    "random.seed()\n",
    "p2 = 12 #2**64\n",
    "n = int(input(\"Nombre d'elements a trier\\n\"))\n",
    "liste = []\n",
    "for i in range(n): liste.append(random.randint(0, p2))\n",
    "\n",
    "tableau = list(liste)\n",
    "a=time.clock()\n",
    "triInsertion(tableau)\n",
    "b=time.clock()\n",
    "print(\"Tri par insertion : \", b-a)\n",
    "\n",
    "print(liste)\n",
    "print(tableau)\n"
   ]
  }
 ],
 "metadata": {
  "kernelspec": {
   "display_name": "Python 3",
   "language": "python",
   "name": "python3"
  },
  "language_info": {
   "codemirror_mode": {
    "name": "ipython",
    "version": 3
   },
   "file_extension": ".py",
   "mimetype": "text/x-python",
   "name": "python",
   "nbconvert_exporter": "python",
   "pygments_lexer": "ipython3",
   "version": "3.4.3"
  }
 },
 "nbformat": 4,
 "nbformat_minor": 0
}
