{
 "cells": [
  {
   "cell_type": "markdown",
   "metadata": {},
   "source": [
    "**Exercice 1 :** Écrire une fonction qui permet d'insérer un élément dans un tableau en décalant tous ses successeurs vers la droite. Dans un premier temps, par souci de simplification, on fait l'hypothèse que le tableau est assez grand et que les cases de droite contiennent des 0. "
   ]
  },
  {
   "cell_type": "code",
   "execution_count": 1,
   "metadata": {
    "collapsed": false
   },
   "outputs": [
    {
     "ename": "NameError",
     "evalue": "name 'exemple' is not defined",
     "output_type": "error",
     "traceback": [
      "\u001b[1;31m---------------------------------------------------------------------------\u001b[0m",
      "\u001b[1;31mNameError\u001b[0m                                 Traceback (most recent call last)",
      "\u001b[1;32m<ipython-input-1-ef792d413703>\u001b[0m in \u001b[0;36m<module>\u001b[1;34m()\u001b[0m\n\u001b[0;32m     11\u001b[0m \u001b[1;33m\u001b[0m\u001b[0m\n\u001b[0;32m     12\u001b[0m \u001b[1;31m# Je suppose que je veux insérer \"5\" dans la case 3, et que je sais que mon tableau se finit dans la case 4\u001b[0m\u001b[1;33m\u001b[0m\u001b[1;33m\u001b[0m\u001b[0m\n\u001b[1;32m---> 13\u001b[1;33m \u001b[0mprint\u001b[0m\u001b[1;33m(\u001b[0m\u001b[0mdecalageADroite\u001b[0m\u001b[1;33m(\u001b[0m\u001b[0mexemple\u001b[0m\u001b[1;33m,\u001b[0m \u001b[1;36m3\u001b[0m\u001b[1;33m,\u001b[0m \u001b[1;36m4\u001b[0m\u001b[1;33m)\u001b[0m\u001b[1;33m)\u001b[0m\u001b[1;33m\u001b[0m\u001b[0m\n\u001b[0m\u001b[0;32m     14\u001b[0m \u001b[0mprint\u001b[0m\u001b[1;33m(\u001b[0m\u001b[0mexemple\u001b[0m\u001b[1;33m)\u001b[0m\u001b[1;33m\u001b[0m\u001b[0m\n",
      "\u001b[1;31mNameError\u001b[0m: name 'exemple' is not defined"
     ]
    }
   ],
   "source": [
    "# Exemple = [2, 3, 4, 6, 7, 0, 0, 0, 0]\n",
    "\n",
    "def decalageADroite(tab, i, derniereCase):\n",
    "    \n",
    "    for a in range (derniereCase,i-1,-1):\n",
    "        print(a)\n",
    "        tab[a+1]=tab[a]\n",
    "        \n",
    "        \n",
    "    return tab\n",
    "\n",
    "# Je suppose que je veux insérer \"5\" dans la case 3, et que je sais que mon tableau se finit dans la case 4\n",
    "print(decalageADroite(exemple, 3, 4))\n",
    "print(exemple)"
   ]
  },
  {
   "cell_type": "code",
   "execution_count": null,
   "metadata": {
    "collapsed": false,
    "scrolled": true
   },
   "outputs": [],
   "source": [
    "# Pour ceux qui voudraient utiliser des vrais tableaux en Python \n",
    "from numpy import array, empty\n",
    "\n",
    "#Création d'un tableau à partir d'une liste de valeur :\n",
    "a = array([2,4,6,0,2,8])\n",
    "\n",
    "#Création d'un tableau non initialisé :\n",
    "a = empty(10, float)  # taille du tableau, type d'éléments\n",
    "\n"
   ]
  },
  {
   "cell_type": "code",
   "execution_count": null,
   "metadata": {
    "collapsed": true
   },
   "outputs": [],
   "source": [
    "%load_ext doctestmagic"
   ]
  },
  {
   "cell_type": "markdown",
   "metadata": {},
   "source": [
    "**Exercice 2 :** proposez une solution itérative et une solution récursive au problème du tri par sélection du minimum. "
   ]
  },
  {
   "cell_type": "code",
   "execution_count": null,
   "metadata": {
    "collapsed": false
   },
   "outputs": [],
   "source": [
    "#Solution itérative\n",
    "def triSelection (tab):\n",
    "    '''\n",
    "    entrée / sortie :tab est un tableau d'entier\n",
    "    pré-cond: tab non vide\n",
    "    post-cond tab est trié dans l'ordre croissant\n",
    "    '''\n",
    "    b=0\n",
    "    min=tab[0]\n",
    "    for i in range (len(tab)):\n",
    "        for j in range (b,len(tab)):\n",
    "            if (tab[j]<min):\n",
    "                min=tab[j]\n",
    "                indice=j\n",
    "        c=tab[b]\n",
    "        tab[b]=tab[indice]\n",
    "        tab[indice]=c\n",
    "        b=b+1\n",
    "        min=c\n",
    "    return tab\n",
    "print(triSelection([5,2,3,4]))"
   ]
  },
  {
   "cell_type": "code",
   "execution_count": null,
   "metadata": {
    "collapsed": false
   },
   "outputs": [],
   "source": [
    "%doctest triSelection"
   ]
  },
  {
   "cell_type": "markdown",
   "metadata": {
    "collapsed": false
   },
   "source": [
    "Solution récursive :\n",
    "\n",
    "http://pythontutor.com/visualize.html#code=def+triSelectifRecursif(tableau,indice%29%3A%0A%09indiceMin%3Dindice%0A%09if+indice!%3Dlen(tableau%29%3A%0A%09%09for+i+in+range(indice,len(tableau%29%29%3A%0A%09%09%09if+tableau%5Bi%5D%3Ctableau%5BindiceMin%5D%3A%0A%09%09%09%09indiceMin%3Di%0A%09%09temp%3Dtableau%5Bindice%5D%0A%09%09tableau%5Bindice%5D%3Dtableau%5BindiceMin%5D%0A%09%09tableau%5BindiceMin%5D%3Dtemp%0A%09%09triSelectifRecursif(tableau,indice%2B1%29%0A%09return+tableau%5Bindice%3A%5D%0AtriSelectifRecursif(%5B2,1,5,4%5D,0%29&mode=display&origin=opt-frontend.js&cumulative=false&heapPrimitives=false&textReferences=false&py=3&rawInputLstJSON=%5B%5D&curInstr=68"
   ]
  },
  {
   "cell_type": "code",
   "execution_count": null,
   "metadata": {
    "collapsed": false
   },
   "outputs": [],
   "source": [
    "def triSelectionR (tab,i):\n",
    "    '''\n",
    "    entrée / sortie :tab est un tableau d'entier\n",
    "    pré-cond: tab non vide\n",
    "    post-cond tab est trié dans l'ordre croissant\n",
    "    '''\n",
    "    imin=i\n",
    "    if i!=len(tab)-1:\n",
    "        for j in range(i,len(tab)):\n",
    "            if tab[j]<tab[imin]:\n",
    "                imin=j\n",
    "        s=tab[i]\n",
    "        tab[i]=tab[imin]\n",
    "        tab[imin]=s\n",
    "        return triSelectionR(tab,i+1)\n",
    "    else:\n",
    "        return tab\n",
    "    \n",
    "print(triSelectionR([3,4,2,6,1],0))"
   ]
  },
  {
   "cell_type": "code",
   "execution_count": null,
   "metadata": {
    "collapsed": false
   },
   "outputs": [],
   "source": [
    "#Quel est ce tri ? \n",
    "def tri(tab):\n",
    "    '''\n",
    "    :entree/sortie tab: un tableau de valeurs ordonnables\n",
    "    :pre-cond: aucune\n",
    "    :post-cond: le tableau est modifié et trié par ordre croissant\n",
    "    >>> tri([1,5,3,2,4])\n",
    "    [1, 2, 3, 4, 5]\n",
    "    >>> tri([\"pomme\", \"poire\", \"banane\"])\n",
    "    ['banane', 'poire', 'pomme']\n",
    "    '''\n",
    "    for i in range (len(tab)-1):\n",
    "        for j in range (i+1, len(tab)):\n",
    "            if tab[j]<tab[i]:\n",
    "                a=tab[j]\n",
    "                tab[j]=tab[i]\n",
    "                tab[i]=a\n",
    "    return tab\n",
    "    "
   ]
  },
  {
   "cell_type": "markdown",
   "metadata": {},
   "source": [
    "### Rappels sur la trace d'exécution d'un algorithme et la complexité\n",
    "\n",
    "(merci à Pierre-Antoine Champin pour cette section)\n",
    "\n",
    "La trace d'exécution d'un algorithme est constituée\n",
    "en prenant une \"photo\" de toutes les variables de cet algorithme\n",
    "aux instants suivants :\n",
    "    \n",
    "* au début\n",
    "* à chaque `while`\n",
    "* à la fin\n",
    "\n",
    "La trace est un \"compte-rendu\" de l'exécution de l'algorithme.\n",
    "\n",
    "Donnez la trace d'exécution de l'algorithme suivant pour les valeurs suivantes de n : 91, 100, 500."
   ]
  },
  {
   "cell_type": "code",
   "execution_count": null,
   "metadata": {
    "collapsed": false
   },
   "outputs": [],
   "source": [
    "\"\"\"\n",
    ":entrée n: entier\n",
    ":pré-cond n ≥ 0\n",
    ":sortie r: entier\n",
    ":post-cond: r est la partie entière de la racine de n\n",
    "\"\"\"\n",
    "## exemple d'entrées\n",
    "n = 91\n",
    "##\n",
    "\n",
    "\n",
    "r = 0\n",
    "while r*r <= n:\n",
    "    r = r+1\n",
    "r = r-1\n",
    "\n",
    "## pour voir la sortie\n",
    "print(r)\n",
    "##"
   ]
  },
  {
   "cell_type": "markdown",
   "metadata": {},
   "source": [
    "On peut facilement se convaincre que la longueur de la trace sera toujours égale à r+4. En effet :\n",
    "\n",
    "* la valeur finale de r correspond au nombre de fois où on est rentré dans la boucle, moins 1 (à cause de la ligne 18).\n",
    "* La taille de la trace est ici égale\n",
    "\n",
    "   * au nombre de fois où on est entré dans la boucle,\n",
    "   * plus 1 pour le passage à la ligne 13 qui *sort* de la boucle,\n",
    "   * plus 1 pour la photo de départ,\n",
    "   * plus 1 pour la photo à la fin,\n",
    "   \n",
    "  soit (nombre de passages dans la boucle) + 3, soit r + 4.\n",
    "\n",
    "Mais ce qui nous intéresse, c'est de prédire la taille de la trace en fonction des *paramètres d'entrées* (la \"taille\" du problème).\n",
    "\n",
    "En l'occurence, puisque r est la partie entière de √n, on peut affirmer que la longueur de la trace est partie_entière(√n)+4, qu'on peut simplifier en disant qu'elle est *proportionnelle à √n*.\n",
    "\n",
    "### Complexité\n",
    "\n",
    "On appelle **complexité** d'un algorithme la mesure de la longueur de ses traces d'exécution en fonction de ses paramètres d'entrée.\n",
    "\n",
    "Ce n'est pas la longueur exacte de la trace qui nous intéresse ici, mais son *ordre de grandeur* (comme dans l'exemple ci-dessus). C'est pourquoi on utilise la notation 𝓞(...) qui sert justement à représenter les ordres de grandeur.\n",
    "\n",
    "La longueur de la trace d'exécution est liée au temps que prendre cette exécution. Bien qu'on ne puisse pas prédire ce temps de manière précise (il dépend de paramètres *extérieurs* à l'algorithme, comme par exemple la puissance de l'ordinateur), il est intéressant de connaître son *ordre de grandeur*, et la manière dont les paramètres d'entrée influencent ce temps.\n",
    "\n",
    "L'algorithme ci-dessus calcule la partie entière de √n en un temps proportionnel à √n. On dira qu'il a « un temps d'exécution en 𝓞(√n) ».\n",
    "\n",
    "On peut faire mieux avec l'algorithme ci-dessous :"
   ]
  },
  {
   "cell_type": "code",
   "execution_count": null,
   "metadata": {
    "collapsed": false
   },
   "outputs": [],
   "source": [
    "## exemple d'entrées\n",
    "n = 91\n",
    "##\n",
    "\n",
    "min = 0\n",
    "max = n\n",
    "while max-min > 1:\n",
    "    moy = (max+min)//2\n",
    "    if moy*moy <= n:\n",
    "        min = moy\n",
    "    else:\n",
    "        max = moy\n",
    "r = min\n",
    "\n",
    "## pour voir la sortie\n",
    "print(r)\n",
    "##"
   ]
  },
  {
   "cell_type": "markdown",
   "metadata": {},
   "source": [
    "L'algorithme ci-dessus applique une recherche **dichotomique** :\n",
    "on utilise le fait que\n",
    "* la racine de n est forcément comprise entre 0 et n, et que\n",
    "* les racines de deux nombres sont dans le même ordre que ces nombres.\n",
    "\n",
    "On part donc de l'intervalle [0,n] et on le coupe en deux à chaque étape, jusqu'à réduire cet intervalle à une largeur de 1.\n",
    "\n",
    "Le nombre d'étape (et donc la longueur de la trace) est proportionnel au nombre de fois ou l'on peut diviser n par 2, c'est à dire le logarithme à base 2 de n : 𝓞(log₂(n)).\n",
    "\n",
    "On peut se convaincre, avec les courbe ci-dessous, que cet algorithme est bien plus efficace que le précédent pour de grandes valeurs de n."
   ]
  },
  {
   "cell_type": "code",
   "execution_count": null,
   "metadata": {
    "collapsed": false
   },
   "outputs": [],
   "source": [
    "%pylab inline\n",
    "xs = range(1,300)\n",
    "plot(xs, sqrt(xs), \"r-\", label=\" √n\")\n",
    "plot(xs, log2(xs), \"g-\", label=\"log2(n)\")\n",
    "legend(loc=\"lower right\")\n"
   ]
  },
  {
   "cell_type": "markdown",
   "metadata": {},
   "source": [
    "### Calcul de la racine carrée\n",
    "\n",
    "La recherche dichotomique de l'algorithme ci-dessus s'arrête lorsque l'intervalle a une largeur de 1. Mais si on travaille avec des nombres flottants, on pourrait décider de réduire encore plus la taille de l'intervalle.\n",
    "\n",
    "On définit donc un nouvel algorithme, prenant cette fois deux paramètres d'entrée :\n",
    "* *x*, le nombre flottant dont on veut calculer la racine carrée,\n",
    "* *erreur*, l'erreur maximale que l'on accepte d'avoir sur le résultat"
   ]
  },
  {
   "cell_type": "code",
   "execution_count": null,
   "metadata": {
    "collapsed": false
   },
   "outputs": [],
   "source": [
    "\"\"\"\n",
    ":entrée x: flottant\n",
    ":entrée erreur: flottant\n",
    ":pré-cond x ≥ 0\n",
    ":sortie r: entier\n",
    ":post-cond: r est la racine de 'x' à 'erreur' près\n",
    "\"\"\"\n",
    "## exemple d'entrées\n",
    "x=500\n",
    "precision=0.001\n",
    "##\n",
    "\n",
    "# AUTRE SOLUTION #\n",
    "min = 0\n",
    "max = x\n",
    "while max-min > erreur:\n",
    "    moy = (max+min)/2\n",
    "    if moy*moy <= x:\n",
    "        min = moy\n",
    "    else:\n",
    "        max = moy\n",
    "r = min\n",
    "\n",
    "## pour voir la sortie\n",
    "print(r)\n",
    "# et la vérifier \n",
    "print(r*r)\n",
    "##"
   ]
  },
  {
   "cell_type": "markdown",
   "metadata": {},
   "source": [
    "L'algorithme ci-dessus a une complexité en 𝓞(log₂(n/precision), ce qui signifie que le temps d'exécution augmente lorsque *n* augmente, mais aussi lorsque *erreur* diminue. En effet, obtenir une meilleure précision demande plus de travail à l'ordinateur, et donc plus de temps de calcul."
   ]
  }
 ],
 "metadata": {
  "kernelspec": {
   "display_name": "Python 3",
   "language": "python",
   "name": "python3"
  },
  "language_info": {
   "codemirror_mode": {
    "name": "ipython",
    "version": 3
   },
   "file_extension": ".py",
   "mimetype": "text/x-python",
   "name": "python",
   "nbconvert_exporter": "python",
   "pygments_lexer": "ipython3",
   "version": "3.4.3"
  }
 },
 "nbformat": 4,
 "nbformat_minor": 0
}
