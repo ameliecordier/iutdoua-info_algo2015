{
 "cells": [
  {
   "cell_type": "markdown",
   "metadata": {},
   "source": [
    "**Exercice 1 :** Que font les programmes suivants ?"
   ]
  },
  {
   "cell_type": "code",
   "execution_count": null,
   "metadata": {
    "collapsed": false
   },
   "outputs": [],
   "source": [
    "a, b, c = 1, 1, 1             \n",
    "                              \n",
    "print(1)                       \n",
    "while c<15:                   \n",
    "    a, b, c = b, a+b, c+1\n",
    "    print(b)"
   ]
  },
  {
   "cell_type": "markdown",
   "metadata": {},
   "source": [
    "Notez la différence entre la version précédente et la version suivante... L'ordre dans lequel les affectations des valeurs aux variables sont effectuées est important !"
   ]
  },
  {
   "cell_type": "code",
   "execution_count": null,
   "metadata": {
    "collapsed": false
   },
   "outputs": [],
   "source": [
    "a, b, c = 1, 1, 1             \n",
    "                              \n",
    "print(1)                       \n",
    "while c<15:                   \n",
    "    a = b\n",
    "    b = a+b\n",
    "    c = c+1\n",
    "    print(b)"
   ]
  },
  {
   "cell_type": "code",
   "execution_count": null,
   "metadata": {
    "collapsed": false
   },
   "outputs": [],
   "source": [
    "ch = \"? eluor ac\"\n",
    "lc = len(ch)\n",
    "i = lc - 1 \n",
    "sortie = \"\"\n",
    "while i >= 0:\n",
    "  sortie = sortie + ch[i]\n",
    "  i = i - 1\n",
    "print(sortie)"
   ]
  },
  {
   "cell_type": "markdown",
   "metadata": {},
   "source": [
    "Ci-dessous, quelques tests pour voir comment se comportent les chaînes de caractères :"
   ]
  },
  {
   "cell_type": "code",
   "execution_count": null,
   "metadata": {
    "collapsed": false
   },
   "outputs": [],
   "source": [
    "toto = \"? eluor ac\"\n",
    "print(len(toto))\n",
    "print(toto[3])"
   ]
  },
  {
   "cell_type": "code",
   "execution_count": null,
   "metadata": {
    "collapsed": false
   },
   "outputs": [],
   "source": [
    "x = 11\n",
    "n = 0\n",
    "while n < 10:\n",
    "    print(n, x)\n",
    "    if x % 2 == 0:\n",
    "        x = x // 2\n",
    "    else:\n",
    "        x = 3 * x + 1\n",
    "    n = n + 1"
   ]
  },
  {
   "cell_type": "markdown",
   "metadata": {},
   "source": [
    "Mini-cours sur la division entière : "
   ]
  },
  {
   "cell_type": "code",
   "execution_count": null,
   "metadata": {
    "collapsed": false
   },
   "outputs": [],
   "source": [
    "a = 9\n",
    "print(a%2)\n",
    "print(a//2)"
   ]
  },
  {
   "cell_type": "code",
   "execution_count": null,
   "metadata": {
    "collapsed": false
   },
   "outputs": [],
   "source": [
    "n = int(input(\"n? \"))\n",
    "c = int(input(\"c? \"))\n",
    "i = n * c\n",
    "while i > 0:\n",
    "    i = i - 1\n",
    "    ligne = \"\"\n",
    "    j = n * c\n",
    "    while j > 0:\n",
    "        j = j - 1\n",
    "        a = i // c\n",
    "        b = j // c\n",
    "        if (a + b) % 2 == 0:\n",
    "            ligne = ligne + \".\"\n",
    "        else:\n",
    "            ligne = ligne + \"#\"\n",
    "    print(ligne)"
   ]
  },
  {
   "cell_type": "markdown",
   "metadata": {},
   "source": [
    "**Exercice 2 : ** Les pièges de Python, ou de l'importance de tester\n",
    "\n",
    "* Rappels sur les bornes et les intervalles\n",
    "* Rappels sur les opérateurs logiques : and, or, not\n",
    "* Rappels sur les opérateurs de comparaison : <, <=, >, >=, !=, ==\n",
    "* Rappels sur la priorité des opérateurs mathématiques (+ - \\* /  \\*\\* // %)\n",
    "* Rappels sur la notion de float"
   ]
  },
  {
   "cell_type": "code",
   "execution_count": null,
   "metadata": {
    "collapsed": false
   },
   "outputs": [],
   "source": [
    "print(round(14.34, 1))\n",
    "a = 2.456789\n",
    "b = 2.55\n",
    "c = 2.50\n",
    "print(round(a, 2)) \n",
    "print(round(a))\n",
    "print(round(b))\n",
    "print(round(c))"
   ]
  },
  {
   "cell_type": "code",
   "execution_count": null,
   "metadata": {
    "collapsed": false
   },
   "outputs": [],
   "source": [
    "a = 5\n",
    "print(a*2 * 3.14)"
   ]
  },
  {
   "cell_type": "code",
   "execution_count": null,
   "metadata": {
    "collapsed": false
   },
   "outputs": [],
   "source": [
    "a = False\n",
    "b = True\n",
    "c = True\n",
    "print((a and b) or c)\n",
    "print(a and (b or c))\n",
    "print(a and b or c)"
   ]
  },
  {
   "cell_type": "markdown",
   "metadata": {},
   "source": [
    "**Exercice 3 : ** Tiens, une nouvelle notation ?!?"
   ]
  },
  {
   "cell_type": "code",
   "execution_count": null,
   "metadata": {
    "collapsed": false
   },
   "outputs": [],
   "source": [
    "tt = [1, 5, 12, 38, 43, 34, 21, 2, 15]\n",
    "a = []\n",
    "b = []\n",
    "print (\"Longueur de tt\", len(tt), \" et longueur de a \", len(a))\n",
    "i = 0\n",
    "while i < len(tt):\n",
    "  if tt[i] % 2 == 0:\n",
    "      a.append(tt[i])\n",
    "  else:\n",
    "      b.append(tt[i])\n",
    "  i = i + 1\n",
    "print(\"truc :\", a)\n",
    "print(\"bidule :\", b)"
   ]
  },
  {
   "cell_type": "code",
   "execution_count": null,
   "metadata": {
    "collapsed": false
   },
   "outputs": [],
   "source": [
    "a = []\n",
    "chaine = \"bonjour!\"\n",
    "while chaine != \"\":\n",
    "  print(\"Entrez un truc !\")\n",
    "  chaine = input()\n",
    "  if chaine != \"\":\n",
    "      a.append(chaine)\n",
    "print(a)"
   ]
  },
  {
   "cell_type": "markdown",
   "metadata": {},
   "source": [
    "**Exercice de synthèse** : Écrire un programme qui demande à un utilisateur une série de notes et les stocke dans une liste. La saisie s'arrête quand l'utilisateur entre -1. Affichez la liste, et la moyenne des notes arrondie à 2 chiffres après la virgule."
   ]
  },
  {
   "cell_type": "code",
   "execution_count": null,
   "metadata": {
    "collapsed": false
   },
   "outputs": [],
   "source": [
    "liste_notes = []\n",
    "note = 0\n",
    "somme = 0\n",
    "while note != -1:\n",
    "    note = float(input())\n",
    "    if note != -1:\n",
    "        liste_notes.append(note)\n",
    "    \n",
    "print(liste_notes)\n",
    "\n",
    "for a in liste_notes: \n",
    "    somme = somme + a\n",
    "    \n",
    "print(somme/len(liste_notes))"
   ]
  },
  {
   "cell_type": "code",
   "execution_count": null,
   "metadata": {
    "collapsed": true
   },
   "outputs": [],
   "source": []
  }
 ],
 "metadata": {
  "kernelspec": {
   "display_name": "Python 3",
   "language": "python",
   "name": "python3"
  },
  "language_info": {
   "codemirror_mode": {
    "name": "ipython",
    "version": 3
   },
   "file_extension": ".py",
   "mimetype": "text/x-python",
   "name": "python",
   "nbconvert_exporter": "python",
   "pygments_lexer": "ipython3",
   "version": "3.4.3"
  }
 },
 "nbformat": 4,
 "nbformat_minor": 0
}
