{
 "cells": [
  {
   "cell_type": "markdown",
   "metadata": {},
   "source": [
    "**Exercice 1 :** Que font les programmes suivants ?"
   ]
  },
  {
   "cell_type": "code",
   "execution_count": null,
   "metadata": {
    "collapsed": false
   },
   "outputs": [],
   "source": [
    "a, b, c = 1, 1, 1             \n",
    "                              \n",
    "print(1)                       \n",
    "while c<15:                   \n",
    "    a, b, c = b, a+b, c+1\n",
    "    print(b)"
   ]
  },
  {
   "cell_type": "code",
   "execution_count": null,
   "metadata": {
    "collapsed": false
   },
   "outputs": [],
   "source": [
    "ch = \"? eluor ac\"\n",
    "lc = len(ch)\n",
    "i = lc - 1 \n",
    "sortie = \"\"\n",
    "while i >= 0:\n",
    "  sortie = sortie + ch[i]\n",
    "  i = i - 1\n",
    "print(sortie)"
   ]
  },
  {
   "cell_type": "markdown",
   "metadata": {},
   "source": [
    "**Exercice 2 : ** Les pièges de Python, ou de l'importance de tester\n",
    "\n",
    "* Rappels sur les bornes et les intervalles\n",
    "* Rappels sur les opérateurs logiques : and, or, not\n",
    "* Rappels sur les opérateurs de comparaison : <, <=, >, >=, !=, ==\n",
    "* Rappels sur la priorité des opérateurs mathématiques (+ - \\* /  \\*\\* // %)\n",
    "* Rappels sur la notion de float"
   ]
  },
  {
   "cell_type": "code",
   "execution_count": null,
   "metadata": {
    "collapsed": false
   },
   "outputs": [],
   "source": [
    "print(round(14.34, 1))\n",
    "a = 2.456789\n",
    "print(round(a, 2)) \n",
    "print(round(a))"
   ]
  },
  {
   "cell_type": "markdown",
   "metadata": {},
   "source": [
    "**Exercice 3 : ** Tiens, une nouvelle notation ?!?"
   ]
  },
  {
   "cell_type": "code",
   "execution_count": null,
   "metadata": {
    "collapsed": false
   },
   "outputs": [],
   "source": [
    "tt = [1, 5, 12, 38, 43, 34, 21, 2, 15]\n",
    "a = []\n",
    "b = []\n",
    "i = 0\n",
    "while i < len(tt):\n",
    "  if tt[i] % 2 == 0:\n",
    "      a.append(tt[i])\n",
    "  else:\n",
    "      b.append(tt[i])\n",
    "  i = i + 1\n",
    "print(\"truc :\", a)\n",
    "print(\"bidule :\", b)"
   ]
  },
  {
   "cell_type": "code",
   "execution_count": null,
   "metadata": {
    "collapsed": false
   },
   "outputs": [],
   "source": [
    "a = []\n",
    "chaine = \"bonjour!\"\n",
    "while chaine != \"\":\n",
    "  print(\"Entrez un truc !\")\n",
    "  chaine = input()\n",
    "  if chaine != \"\":\n",
    "      a.append(chaine)\n",
    "print(a)"
   ]
  }
 ],
 "metadata": {
  "kernelspec": {
   "display_name": "Python 3",
   "language": "python",
   "name": "python3"
  },
  "language_info": {
   "codemirror_mode": {
    "name": "ipython",
    "version": 3
   },
   "file_extension": ".py",
   "mimetype": "text/x-python",
   "name": "python",
   "nbconvert_exporter": "python",
   "pygments_lexer": "ipython3",
   "version": "3.4.3"
  }
 },
 "nbformat": 4,
 "nbformat_minor": 0
}
