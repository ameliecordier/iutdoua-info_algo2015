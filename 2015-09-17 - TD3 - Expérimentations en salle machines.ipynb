{
 "cells": [
  {
   "cell_type": "markdown",
   "metadata": {},
   "source": [
    "Durant ce TD, nous avons fait quelques expérimentations Python en salle machine et j'espère bien que vous en avez profité pour prendre des notes ! "
   ]
  },
  {
   "cell_type": "markdown",
   "metadata": {},
   "source": [
    "**Exercice de prise en main de Python : les étoiles**\n",
    "\n",
    "1. Affichez une ligne de N étoiles\n",
    "2. Affichez N lignes de M étoiles\n",
    "3. Affichez un rectangle vide de M\\*N étoiles\n",
    "4. Affichez un triangle rectangle de base M et de hauteur N formé d'étoiles\n",
    "5. Affichez une croix de taille N formée d'étoiles\n",
    "6. Affichez un triangle comme en 4, mais avec l'angle droit en haut à droite, avec des étoiles\n",
    "7. Faire un E avec des étoiles\n",
    "8. Faire un T avec des étoiles\n",
    "9. Faire un X avec des étoiles\n",
    "10. Reprendre l'ensemble des exercices ci-dessus, mais modifiez les fonctions de sorte à permettre de choisir le caractère qui sera utilisé pour dessiner les formes. \n",
    "\n",
    "Ci-dessous, pour l'exemple, la correction de l'exercice 3. "
   ]
  },
  {
   "cell_type": "code",
   "execution_count": 1,
   "metadata": {
    "collapsed": false
   },
   "outputs": [
    {
     "name": "stdout",
     "output_type": "stream",
     "text": [
      "Nombre d'étoiles\n",
      "6\n",
      "Nombre de lignes\n",
      "4\n",
      "******\n",
      "*    *\n",
      "*    *\n",
      "******\n"
     ]
    }
   ],
   "source": [
    "etoile=str(\"*\")\n",
    "espace=str(\" \")\n",
    "n=int(input(\"Nombre d'étoiles\\n\"))\n",
    "m=int(input(\"Nombre de lignes\\n\"))\n",
    "print(etoile*n)\n",
    "for i in range (2,m):\n",
    "    print(\"*\",espace*(n-4),\"*\")\n",
    "print(etoile*n)"
   ]
  }
 ],
 "metadata": {
  "kernelspec": {
   "display_name": "Python 3",
   "language": "python",
   "name": "python3"
  },
  "language_info": {
   "codemirror_mode": {
    "name": "ipython",
    "version": 3
   },
   "file_extension": ".py",
   "mimetype": "text/x-python",
   "name": "python",
   "nbconvert_exporter": "python",
   "pygments_lexer": "ipython3",
   "version": "3.4.3"
  }
 },
 "nbformat": 4,
 "nbformat_minor": 0
}
