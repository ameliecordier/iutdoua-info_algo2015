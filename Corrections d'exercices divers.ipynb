{
 "cells": [
  {
   "cell_type": "code",
   "execution_count": 1,
   "metadata": {
    "collapsed": false
   },
   "outputs": [
    {
     "name": "stdout",
     "output_type": "stream",
     "text": [
      "n? 6\n",
      "c? 4\n",
      "....####....####....####\n",
      "....####....####....####\n",
      "....####....####....####\n",
      "....####....####....####\n",
      "####....####....####....\n",
      "####....####....####....\n",
      "####....####....####....\n",
      "####....####....####....\n",
      "....####....####....####\n",
      "....####....####....####\n",
      "....####....####....####\n",
      "....####....####....####\n",
      "####....####....####....\n",
      "####....####....####....\n",
      "####....####....####....\n",
      "####....####....####....\n",
      "....####....####....####\n",
      "....####....####....####\n",
      "....####....####....####\n",
      "....####....####....####\n",
      "####....####....####....\n",
      "####....####....####....\n",
      "####....####....####....\n",
      "####....####....####....\n"
     ]
    }
   ],
   "source": [
    "#Écrire un algorithme qui affiche un damier de n * c cases, chaque case étant constituée de c*c caractères\n",
    "n = int(input(\"n? \"))\n",
    "c = int(input(\"c? \"))\n",
    "i = n * c\n",
    "while i > 0:\n",
    "    i = i - 1\n",
    "    ligne = \"\"\n",
    "    j = n * c\n",
    "    while j > 0:\n",
    "        j = j - 1\n",
    "        a = i // c\n",
    "        b = j // c\n",
    "        if (a + b) % 2 == 0:\n",
    "            ligne = ligne + \".\"\n",
    "        else:\n",
    "            ligne = ligne + \"#\"\n",
    "    print(ligne)"
   ]
  },
  {
   "cell_type": "code",
   "execution_count": 2,
   "metadata": {
    "collapsed": false
   },
   "outputs": [
    {
     "name": "stdout",
     "output_type": "stream",
     "text": [
      "0 11\n",
      "1 34\n",
      "2 17\n",
      "3 52\n",
      "4 26\n",
      "5 13\n",
      "6 40\n",
      "7 20\n",
      "8 10\n",
      "9 5\n"
     ]
    }
   ],
   "source": [
    "#Exercice de lecture d'algorithme. \n",
    "#Que fait l'algorithme suivant ? \n",
    "\n",
    "x = 11\n",
    "n = 0\n",
    "while n < 10:\n",
    "    print(n, x)\n",
    "    if x % 2 == 0:\n",
    "        x = x // 2\n",
    "    else:\n",
    "        x = 3 * x + 1\n",
    "    n = n + 1"
   ]
  },
  {
   "cell_type": "code",
   "execution_count": 3,
   "metadata": {
    "collapsed": false
   },
   "outputs": [
    {
     "name": "stdout",
     "output_type": "stream",
     "text": [
      "Entrez le jour souhaité : mardi\n",
      "Entrez le moment de la journée souhaité : matin\n",
      "Ouvert de 8h à 12h\n"
     ]
    }
   ],
   "source": [
    "#Exercice du mini-contrôle : horaires d'ouverture d'un magasin\n",
    "\n",
    "jour = str(\"jour\")\n",
    "while (jour != \"lundi\" and jour != \"mardi\" and jour != \"mercredi\" and jour != \"jeudi\" and jour != \"vendredi\" and jour != \"samedi\" and jour != \"dimanche\" and jour != \"Lundi\" and jour != \"Mardi\" and jour != \"Mercredi\" and jour != \"Jeudi\" and jour != \"Vendredi\" and jour != \"Samedi\" and jour != \"Dimanche\") :\n",
    "    jour = str(input(\"Entrez le jour souhaité : \"))\n",
    "    \n",
    "    if (jour != \"lundi\" and jour != \"mardi\" and jour != \"mercredi\" and jour != \"jeudi\" and jour != \"vendredi\" and jour != \"samedi\" and jour != \"dimanche\" and jour != \"Lundi\" and jour != \"Mardi\" and jour != \"Mercredi\" and jour != \"Jeudi\" and jour != \"Vendredi\" and jour != \"Samedi\" and jour != \"Dimanche\") :\n",
    "        print(\"Rentrez un jour valide\")\n",
    "        \n",
    "temps = str(\"temps\")\n",
    "while (temps != \"matin\" and temps != \"après-midi\" and temps != \"apres-midi\" and temps != \"après midi\" and temps != \"apres midi\") :\n",
    "    temps = str(input(\"Entrez le moment de la journée souhaité : \"))\n",
    "    \n",
    "    if (temps != \"matin\" and temps != \"après-midi\" and temps != \"apres-midi\" and temps != \"après midi\" and temps != \"apres midi\") :\n",
    "        print(\"Rentrez un moment de la journée valide\")\n",
    "        \n",
    "def donnerHoraire(jour,temps) :\n",
    "    #Entrées : Le jour\n",
    "    #Sortie : /\n",
    "    #Pré cond : Jour existant\n",
    "    #Post cond : affiche les horaire pour le jour indiquer\n",
    "\n",
    "    if (temps == \"matin\") :\n",
    "        \n",
    "        if (jour == \"lundi\") :\n",
    "            print (\"Ouvert de 10h à 12h\")\n",
    "\n",
    "        elif (jour == \"mardi\" or jour == \"jeudi\"or jour == \"vendredi\") :\n",
    "            print(\"Ouvert de 8h à 12h\")\n",
    "\n",
    "        elif (jour == \"samedi\") :\n",
    "            print(\"Ouvert de 9h à 11h\")\n",
    "\n",
    "        else :\n",
    "            print(\"C'est fermé\")\n",
    "            \n",
    "    else :\n",
    "\n",
    "        if (jour == \"lundi\" or jour == \"mercredi\") :\n",
    "            print(\"Overt de 14h à 16h\")\n",
    "\n",
    "        elif (jour == \"mardi\") :\n",
    "            print(\"Ouvert de 14h à 17h\")\n",
    "\n",
    "        elif (jour == \"jeudi\") :\n",
    "            print(\"Ouvert de 13h à 15h\")\n",
    "\n",
    "        else :\n",
    "            print(\"C'est fermé\")\n",
    "            \n",
    "        \n",
    "\n",
    "donnerHoraire(jour,temps)\n",
    "    "
   ]
  },
  {
   "cell_type": "code",
   "execution_count": 5,
   "metadata": {
    "collapsed": false
   },
   "outputs": [
    {
     "name": "stdout",
     "output_type": "stream",
     "text": [
      "121s = 2mn01 => (0, 0, 2, 1)\n",
      "3661s = 1h1mn1seconde => (0, 1, 1, 1)\n",
      "90061s = 1j1h1mn1sec (1, 1, 1, 1)\n",
      "120s = 2mn00 => (0, 0, 2, 0)\n",
      "3600s = 1h => (0, 1, 0, 0)\n"
     ]
    }
   ],
   "source": [
    "# Correction de l'exercice de conversion d'une durée en Heures, minutes et secondes\n",
    "\n",
    "def sed(sec):\n",
    "\n",
    "    m = sec // 60\n",
    "    s = sec % 60\n",
    "    h = m // 60\n",
    "    m = m % 60\n",
    "    j = h //24\n",
    "    h = h %24    \n",
    "    \n",
    "    return j, h, m, s\n",
    "    \n",
    "print(\"121s = 2mn01 =>\", sed(121))\n",
    "print(\"3661s = 1h1mn1seconde =>\", sed(3661))\n",
    "print(\"90061s = 1j1h1mn1sec\", sed(90061))\n",
    "print(\"120s = 2mn00 =>\", sed(120))\n",
    "print(\"3600s = 1h =>\", sed(3600))"
   ]
  },
  {
   "cell_type": "code",
   "execution_count": 9,
   "metadata": {
    "collapsed": false
   },
   "outputs": [
    {
     "data": {
      "text/plain": [
       "112"
      ]
     },
     "execution_count": 9,
     "metadata": {},
     "output_type": "execute_result"
    }
   ],
   "source": [
    "# Somme des termes d'une suite arithmétique\n",
    "def suiteArithmetique(raison, n):\n",
    "    \n",
    "    somme = 0 \n",
    "    for k in range(0, n):\n",
    "        somme = somme + raison * k \n",
    "\n",
    "    return somme\n",
    "\n",
    "suiteArithmetique(4, 8)"
   ]
  },
  {
   "cell_type": "code",
   "execution_count": 10,
   "metadata": {
    "collapsed": false
   },
   "outputs": [
    {
     "name": "stdout",
     "output_type": "stream",
     "text": [
      "19 6 3 1\n"
     ]
    }
   ],
   "source": [
    "# Exercice : prédire les valeurs des variables qui seront affichées par le print : \n",
    "a = 19\n",
    "b = 6\n",
    "q = 0\n",
    "r = a # r = 19\n",
    "r = r - b # r = 13\n",
    "q = q+1 # q = 1\n",
    "r = r - b # r = 7\n",
    "q = q + 1 # q = 2\n",
    "r = r - b # r = 1\n",
    "q = q + 1 # q = 3\n",
    "\n",
    "\n",
    "print(a, b, q, r)\n"
   ]
  },
  {
   "cell_type": "code",
   "execution_count": null,
   "metadata": {
    "collapsed": false
   },
   "outputs": [
    {
     "name": "stdout",
     "output_type": "stream",
     "text": [
      "Bienvenue dans le dessinateur à damier\n",
      "Choisissez un nombre de colonnes 4\n",
      "Le nombre de lignes 2\n",
      "Premier caracteree\n",
      "Second caracterer\n",
      "eeeerrrr        eeeerrrr        \n",
      "eeeerrrr        eeeerrrr        \n",
      "        rrrreeee        rrrreeee\n",
      "        rrrreeee        rrrreeee\n"
     ]
    }
   ],
   "source": [
    "def affichedamier(x,y,c,d):\n",
    "\ta=0\n",
    "\tfor l in range(y):\n",
    "\t\tfor m in range(y):\n",
    "\t\t\tfor i in range(x):\n",
    "\t\t\t\tfor j in range(2):\n",
    "\t\t\t\t\tfor k in range(x):\n",
    "\t\t\t\t\t\tif a==0:\n",
    "\t\t\t\t\t\t\tif i%2==0 and j%2==0:\n",
    "\t\t\t\t\t\t\t\tprint(c,end='')\n",
    "\t\t\t\t\t\t\telif i%2==0 and j%2!=0:\n",
    "\t\t\t\t\t\t\t\tprint(d,end='')\n",
    "\t\t\t\t\t\t\telse:\n",
    "\t\t\t\t\t\t\t\tprint(\" \",end='')\n",
    "\t\t\t\t\t\telse:\n",
    "\t\t\t\t\t\t\tif i%2!=0 and j%2!=0:\n",
    "\t\t\t\t\t\t\t\tprint(c,end='')\n",
    "\t\t\t\t\t\t\telif i%2!=0 and j%2==0:\n",
    "\t\t\t\t\t\t\t\tprint(d,end='')\n",
    "\t\t\t\t\t\t\telse:\n",
    "\t\t\t\t\t\t\t\tprint(\" \",end='')\n",
    "\t\t\tprint()\n",
    "\t\tif a==0:\n",
    "\t\t\ta=1\n",
    "\t\telse:\n",
    "\t\t\ta=0\n",
    "\n",
    "\n",
    "\n",
    "print(\"Bienvenue dans le dessinateur à damier\")\n",
    "x=int(input(\"Choisissez un nombre de colonnes \"))\n",
    "y=int(input(\"Le nombre de lignes \"))\n",
    "c=input(\"Premier caractere\")\n",
    "d=input(\"Second caractere\")\n",
    "affichedamier(x,y,c,d)\n",
    "a=input()"
   ]
  },
  {
   "cell_type": "code",
   "execution_count": null,
   "metadata": {
    "collapsed": true
   },
   "outputs": [],
   "source": []
  }
 ],
 "metadata": {
  "kernelspec": {
   "display_name": "Python 3",
   "language": "python",
   "name": "python3"
  },
  "language_info": {
   "codemirror_mode": {
    "name": "ipython",
    "version": 3
   },
   "file_extension": ".py",
   "mimetype": "text/x-python",
   "name": "python",
   "nbconvert_exporter": "python",
   "pygments_lexer": "ipython3",
   "version": "3.4.3"
  }
 },
 "nbformat": 4,
 "nbformat_minor": 0
}
