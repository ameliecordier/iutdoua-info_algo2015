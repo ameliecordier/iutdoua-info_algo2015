{
 "cells": [
  {
   "cell_type": "markdown",
   "metadata": {},
   "source": [
    "** Quelques rappels sur les chaînes de caractères**\n",
    "\n",
    "Les chaînes de caractères s'écrivent entre guillemets (*quotes* en anglais), simples ou doubles. Elles peuvent être comparées entre elles avec les opérateurs classiques de comparaison :  ==, !=, <, <=, >, >=.\n",
    "\n",
    "Attention : l'ordre des chaînes ressemble à l'ordre alphabétique, mais comporte des différences. Par exemple, les majuscules sont avant les minuscules ; les caractères accentués sont \"en dehors\" de l'alphabet.\n",
    "\n",
    "La concaténation (ou assemblage) de deux chaînes s'effecture grâce à l'opérateur +. \n",
    "\n",
    "La fonction len permet d'obtenir le nombre de caractères (longueur) d'une chaîne.\n",
    "\n",
    "Dans une chaîne, chaque caractère a un indice. Le premier caractère se situe à l'indice 0, le second à l'indice 1, etc. Pour accéder au caractère à l'indice i, dans une chaîne ch, on utilise la notation entre crochets ch[i].\n",
    "\n",
    "Les chaînes sont des objets immutables : on ne modifie jamais l'intérieur d'une chaîne, on en crée une autre. \n",
    "\n",
    "Le code suivant illustre ces propos. "
   ]
  },
  {
   "cell_type": "code",
   "execution_count": 7,
   "metadata": {
    "collapsed": false
   },
   "outputs": [
    {
     "name": "stdout",
     "output_type": "stream",
     "text": [
      "True\n",
      "True\n",
      "False\n",
      "True\n",
      "Ceci est un textececi est un autre texte\n",
      "17\n",
      "23\n",
      "c\n"
     ]
    }
   ],
   "source": [
    "txt1 = \"Ceci est un texte\"\n",
    "txt2 = 'ceci est un autre texte'\n",
    "print(\"A\" < txt1)\n",
    "print(\"B\" < txt2)\n",
    "print(\"A\" >\"a\")\n",
    "print(\"Z\" < \"a\"  and  \"z\" < \"é\")\n",
    "print(txt1 + txt2)\n",
    "print(len(txt1))\n",
    "print(len(txt2))\n",
    "print(txt1[2])"
   ]
  },
  {
   "cell_type": "markdown",
   "metadata": {},
   "source": [
    "**Exercices** \n",
    "\n",
    "1. Calculer le nombre d'occurrences d'un caractère dans une chaîne, de deux façons différentes. \n",
    "2. Calculer le nombre de caractères en minuscules dans une chaîne. \n",
    "3. Déterminer l'indice de la première occurrence d'un caractère dans une chaîne. \n",
    "4. Déterminier l'indice maximum d'un caractère dans une chaîne, c'est-à-dire de sa dernière occurrence. \n",
    "5. Inverser une chaîne de caractères.\n",
    "6. Calculer le nombre de mots dans une chaîne de caractères. \n",
    "\n"
   ]
  },
  {
   "cell_type": "code",
   "execution_count": null,
   "metadata": {
    "collapsed": true
   },
   "outputs": [],
   "source": []
  }
 ],
 "metadata": {
  "kernelspec": {
   "display_name": "Python 3",
   "language": "python",
   "name": "python3"
  },
  "language_info": {
   "codemirror_mode": {
    "name": "ipython",
    "version": 3
   },
   "file_extension": ".py",
   "mimetype": "text/x-python",
   "name": "python",
   "nbconvert_exporter": "python",
   "pygments_lexer": "ipython3",
   "version": "3.4.3"
  }
 },
 "nbformat": 4,
 "nbformat_minor": 0
}
