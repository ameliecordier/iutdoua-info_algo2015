{
 "cells": [
  {
   "cell_type": "markdown",
   "metadata": {},
   "source": [
    "1. Rappel sur la différence entre procédure et fonction"
   ]
  },
  {
   "cell_type": "code",
   "execution_count": null,
   "metadata": {
    "collapsed": true
   },
   "outputs": [],
   "source": [
    "nb_myst=int(input(\"J1 : Entrez un nombre.\"))\n",
    "c=1\n",
    "while nb_myst < 0 or nb_myst > 100 :\n",
    "    print(\"Le nombre doit être compris entre 0 et 100\")\n",
    "    nb_myst=int(input(\"J1 : Entrez un nombre.\"))\n",
    "\n",
    "nb_j2=int(input(\"J2 : Essayez de deviner le nombre mystère.\"))\n",
    "while nb_j2 < 0 or nb_j2 > 100 :\n",
    "    print(\"Le nombre doit être compris entre 0 et 100\")\n",
    "    nb_j2=int(input(\"J2 : Entrez un nombre.\"))\n",
    "while nb_j2 != nb_myst :\n",
    "    c = c+1\n",
    "    if nb_j2 > nb_myst :\n",
    "        print(\"Plus petit !\")\n",
    "        nb_j2=int(input(\"J2 : Essayez encore.\"))\n",
    "    elif nb_j2<nb_myst :\n",
    "        print(\"Plus grand !\")\n",
    "        nb_j2=int(input(\"J2 : Essayez encore.\"))\n",
    "\n",
    "print(\"Bien joué ! le nombre était bien : \", nb_myst,\"? Vous avez trouvé en \",c,\" coups.\")"
   ]
  }
 ],
 "metadata": {
  "kernelspec": {
   "display_name": "Python 3",
   "language": "python",
   "name": "python3"
  },
  "language_info": {
   "codemirror_mode": {
    "name": "ipython",
    "version": 3
   },
   "file_extension": ".py",
   "mimetype": "text/x-python",
   "name": "python",
   "nbconvert_exporter": "python",
   "pygments_lexer": "ipython3",
   "version": "3.4.3"
  }
 },
 "nbformat": 4,
 "nbformat_minor": 0
}
