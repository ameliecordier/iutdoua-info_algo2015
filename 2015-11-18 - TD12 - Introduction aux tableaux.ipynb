{
 "cells": [
  {
   "cell_type": "markdown",
   "metadata": {},
   "source": [
    "Durant ce TD, nous avons introduit la notion de tableau. \n",
    "Nous avons précisé qu'un tableau a une longueur fixe et contient des éléments du même type. \n",
    "Nous avons également dit que chaque case du tableau est désignée par un indice (les indices commencent à 0).\n",
    "Enfin, len(tab) renvoie la longueur du tableau tab. "
   ]
  },
  {
   "cell_type": "code",
   "execution_count": 1,
   "metadata": {
    "collapsed": false
   },
   "outputs": [
    {
     "name": "stdout",
     "output_type": "stream",
     "text": [
      "1\n",
      "4\n"
     ]
    }
   ],
   "source": [
    "tableau = [1, 3, 5, 6]\n",
    "print(tableau[0])\n",
    "print(len(tableau))"
   ]
  },
  {
   "cell_type": "markdown",
   "metadata": {},
   "source": [
    "Nous pouvons parcourir les éléments d'un tableau :"
   ]
  },
  {
   "cell_type": "code",
   "execution_count": 2,
   "metadata": {
    "collapsed": false
   },
   "outputs": [
    {
     "name": "stdout",
     "output_type": "stream",
     "text": [
      "pommes\n",
      "tomates\n",
      "fromage\n",
      "lait\n",
      "sucre\n",
      "0\n",
      "1\n",
      "2\n",
      "3\n",
      "4\n"
     ]
    }
   ],
   "source": [
    "tab = [\"pommes\", \"tomates\", \"fromage\", \"lait\", \"sucre\"]\n",
    "i = 0\n",
    "while i < len(tab):\n",
    "    print(tab[i])\n",
    "    i = i+1\n",
    "    \n",
    "# Attention, notez la différence avec :\n",
    "j = 0\n",
    "while j < len(tab):\n",
    "    print(j)\n",
    "    j = j+1"
   ]
  },
  {
   "cell_type": "markdown",
   "metadata": {},
   "source": [
    "**Exercice 1 : ** Recherchez si un élément est présent dans un tableau. "
   ]
  },
  {
   "cell_type": "code",
   "execution_count": 3,
   "metadata": {
    "collapsed": false
   },
   "outputs": [
    {
     "name": "stdout",
     "output_type": "stream",
     "text": [
      "J'ai trouvé !\n"
     ]
    }
   ],
   "source": [
    "def cherche(tab, elt):\n",
    "    i = 0\n",
    "    while i < len(tab):\n",
    "        if tab[i] == elt:\n",
    "            print(\"J'ai trouvé !\")\n",
    "        i = i+1\n",
    "        \n",
    "tableau =  [\"pommes\", \"tomates\", \"fromage\", \"lait\", \"sucre\"]\n",
    "cherche(tableau, \"tomates\")"
   ]
  },
  {
   "cell_type": "markdown",
   "metadata": {},
   "source": [
    "Cette solution contient de nombreux défauts. À vous de les détecter et de proposer une solution améliorée. "
   ]
  }
 ],
 "metadata": {
  "kernelspec": {
   "display_name": "Python 3",
   "language": "python",
   "name": "python3"
  },
  "language_info": {
   "codemirror_mode": {
    "name": "ipython",
    "version": 3
   },
   "file_extension": ".py",
   "mimetype": "text/x-python",
   "name": "python",
   "nbconvert_exporter": "python",
   "pygments_lexer": "ipython3",
   "version": "3.4.3"
  }
 },
 "nbformat": 4,
 "nbformat_minor": 0
}
