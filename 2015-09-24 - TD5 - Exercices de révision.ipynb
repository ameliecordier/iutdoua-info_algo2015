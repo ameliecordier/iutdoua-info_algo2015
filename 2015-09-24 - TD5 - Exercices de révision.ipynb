{
 "cells": [
  {
   "cell_type": "markdown",
   "metadata": {},
   "source": [
    "**Déroulement de la séance : **\n",
    "* Rendu des activités de la première journée + discussion\n",
    "* Rendu des copies de l'interro 1 + discussion\n",
    "* Activité sur le jeu de la tortue pour voir ce que l'on peut faire avec un langage algorithmique minimaliste\n",
    "* Exercices"
   ]
  },
  {
   "cell_type": "markdown",
   "metadata": {},
   "source": [
    "**Exercice 1** Écrire une fonction qui renvoie le plus petit de trois nombres passés en paramètres."
   ]
  },
  {
   "cell_type": "markdown",
   "metadata": {},
   "source": [
    "Nous avons vu plusieurs solutions... et il y en a encore probablement d'autres. \n",
    "\n",
    "**Important: Observez la nouvelle notation que l'on emploie pour définir les entrées et les sorties... nous serons amenés à en reparler** \n",
    "\n",
    "Solution 1 (pas vraiment idéale) :"
   ]
  },
  {
   "cell_type": "code",
   "execution_count": 4,
   "metadata": {
    "collapsed": false
   },
   "outputs": [
    {
     "name": "stdout",
     "output_type": "stream",
     "text": [
      "1\n",
      "1\n",
      "1\n"
     ]
    }
   ],
   "source": [
    "def plusPetit(a, b, c):\n",
    "    \"\"\"\"\n",
    "    :entrée a: int\n",
    "    :entrée b: int\n",
    "    :entrée c: int\n",
    "    :sortie : int\n",
    "    :pré-cond: a, b, c sont des entiers\n",
    "    :post-cond: le nombre retourné est le plus petit des trois            \n",
    "    \"\"\"\n",
    "    # Remarque : cette solution n'est pas idéale car il n'est pas \n",
    "    # recommandé de mettre des return partout dans son algo\n",
    "    if(a<c):\n",
    "        if(a<b):\n",
    "            return a\n",
    "        else:\n",
    "            return b\n",
    "    elif(b<c):\n",
    "        return b\n",
    "    else:\n",
    "        return(c)\n",
    "\n",
    "# Et surtout, on n'oublie pas de tester notre fonction :\n",
    "a=1\n",
    "b=2\n",
    "c=3\n",
    "minimum=plusPetit(a,b,c)\n",
    "print(minimum)\n",
    "\n",
    "a=2\n",
    "b=3\n",
    "c=1\n",
    "minimum=plusPetit(a,b,c)\n",
    "print(minimum)\n",
    "\n",
    "a=3\n",
    "b=1\n",
    "c=2\n",
    "minimum=plusPetit(a,b,c)\n",
    "print(minimum)\n",
    "\n"
   ]
  },
  {
   "cell_type": "markdown",
   "metadata": {},
   "source": [
    "Solution 2. Cette solution minimaliste est très astucieuse. Lorsque l'on opte pour une \"astuce\" comme ça, il est préférable de le commenter pour se souvenir, plus tard, de ce que faisait l'astuce. Notez que l'on reprend exactement les mêmes tests. "
   ]
  },
  {
   "cell_type": "code",
   "execution_count": 2,
   "metadata": {
    "collapsed": false
   },
   "outputs": [
    {
     "name": "stdout",
     "output_type": "stream",
     "text": [
      "1\n",
      "1\n",
      "1\n"
     ]
    }
   ],
   "source": [
    "def plusPetitBis(a, b, c):\n",
    "    \"\"\"\n",
    "    :entrée a: int\n",
    "    :entrée b: int\n",
    "    :entrée c: int\n",
    "    :sortie : int\n",
    "    :pré-cond: a, b, c sont des entiers\n",
    "    :post-cond: le nombre retourné est le plus petit des trois            \n",
    "    \"\"\"\n",
    "    # Astuce : on compare les valeurs deux à deux et on retient \n",
    "    #  la valeur la plus petite dans la variable a. \n",
    "    if(a>b):\n",
    "        a=b\n",
    "    if(a>c):\n",
    "        a=c\n",
    "    return(a)\n",
    "\n",
    "# Et surtout, on n'oublie pas de tester notre fonction :\n",
    "a=1\n",
    "b=2\n",
    "c=3\n",
    "minimum=plusPetitBis(a,b,c)\n",
    "print(minimum)\n",
    "\n",
    "a=2\n",
    "b=3\n",
    "c=1\n",
    "minimum=plusPetitBis(a,b,c)\n",
    "print(minimum)\n",
    "\n",
    "a=3\n",
    "b=1\n",
    "c=2\n",
    "minimum=plusPetitBis(a,b,c)\n",
    "print(minimum)\n"
   ]
  },
  {
   "cell_type": "markdown",
   "metadata": {},
   "source": [
    "**Exercice 2** Écrire une procédure qui affiche la table de multiplication (de 0 à 10) de n'importe quel nombre.\n",
    "\n",
    "Solution. Cet exercice a été corrigé au tableau. "
   ]
  },
  {
   "cell_type": "markdown",
   "metadata": {},
   "source": [
    "**Exercice 3** Écrire une procédure qui affiche la table de multiplication (de m à n) de n'importe quel nombre."
   ]
  },
  {
   "cell_type": "code",
   "execution_count": 5,
   "metadata": {
    "collapsed": false
   },
   "outputs": [
    {
     "name": "stdout",
     "output_type": "stream",
     "text": [
      "5 * 3 = 15\n",
      "5 * 4 = 20\n",
      "5 * 5 = 25\n",
      "5 * 6 = 30\n",
      "5 * 7 = 35\n",
      "5 * 8 = 40\n"
     ]
    }
   ],
   "source": [
    "def afficherTableMult(a, m, n):\n",
    "    '''\n",
    "    :entree: a, l'entier à multiplier\n",
    "    :entree: m et n, les bornes de l'affichage\n",
    "    :sortie: \n",
    "    :pré-condition: n>m\n",
    "    :post-condition: la table de multiplication est affichée sur la sortie standar\n",
    "    '''\n",
    "    for i in range(m,n+1):\n",
    "        print(a,\"*\",i,\"=\",a*i)\n",
    "        \n",
    "# Ne jamais oublier de tester son algorithme / son programme !        \n",
    "a = 5\n",
    "m = 3\n",
    "n = 8\n",
    "afficherTableMult(a, m, n)"
   ]
  },
  {
   "cell_type": "markdown",
   "metadata": {},
   "source": [
    "**Exercices à faire à la maison** \n",
    "\n",
    "**DM1** Calculer les coefficients d’une droite à partir de deux points.\n",
    "\n",
    "**DM2** Convertir une durée en secondes. Le squelette de l'algorithme est donné ci-dessous. "
   ]
  },
  {
   "cell_type": "code",
   "execution_count": null,
   "metadata": {
    "collapsed": true
   },
   "outputs": [],
   "source": [
    "def duree_en_secondes(j, h, m, s):\n",
    "    \"\"\"\n",
    "    :entrée j: int\n",
    "    :entrée h: int\n",
    "    :entrée m: int\n",
    "    :entrée s: float\n",
    "    :sortie ds: float\n",
    "    :pré-cond: j > 0 , 0 ≤ h < 24 , 0 ≤ m < 60, 0 ≤ s < 60\n",
    "    :post-cond: ds est le nombre de secondes correspond à\n",
    "                une durée de j jours, h heures, m minutes et s secondes.\n",
    "    \"\"\""
   ]
  },
  {
   "cell_type": "markdown",
   "metadata": {},
   "source": [
    "**DM3** Et maintenant, faites l'inverse : convertissez un nombre de secondes en durée. "
   ]
  },
  {
   "cell_type": "code",
   "execution_count": null,
   "metadata": {
    "collapsed": true
   },
   "outputs": [],
   "source": []
  }
 ],
 "metadata": {
  "kernelspec": {
   "display_name": "Python 3",
   "language": "python",
   "name": "python3"
  },
  "language_info": {
   "codemirror_mode": {
    "name": "ipython",
    "version": 3
   },
   "file_extension": ".py",
   "mimetype": "text/x-python",
   "name": "python",
   "nbconvert_exporter": "python",
   "pygments_lexer": "ipython3",
   "version": "3.4.3"
  }
 },
 "nbformat": 4,
 "nbformat_minor": 0
}
