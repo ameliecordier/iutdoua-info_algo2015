{
 "cells": [
  {
   "cell_type": "markdown",
   "metadata": {},
   "source": [
    "** Le concept de variable **\n",
    "\n",
    "Une variable est une \"boîte\" dans laquelle il est possible de stocker une valeur (et de la changer au fil du temps). Les variables peuvent être de plusieurs *types*, mais c'est une autre histoire, que l'on verra plus tard. \n",
    "\n",
    "On peut faire plusieurs opérations sur les variables : \n",
    "* Leur affecter une valeur \n",
    "* Récupérer leur valeur\n",
    "* Afficher leur valeur\n",
    "* Demander à l'utilisateur d'affecter la valeur\n",
    "\n",
    "Ci-dessous, on affecte la valeur 33 à la variable *age*"
   ]
  },
  {
   "cell_type": "code",
   "execution_count": null,
   "metadata": {
    "collapsed": true
   },
   "outputs": [],
   "source": [
    "age = 33"
   ]
  },
  {
   "cell_type": "markdown",
   "metadata": {},
   "source": [
    "Ci-dessous, on affiche la valeur de la variable *age*"
   ]
  },
  {
   "cell_type": "code",
   "execution_count": 15,
   "metadata": {
    "collapsed": false
   },
   "outputs": [
    {
     "name": "stdout",
     "output_type": "stream",
     "text": [
      "33\n"
     ]
    }
   ],
   "source": [
    "print(age)"
   ]
  },
  {
   "cell_type": "markdown",
   "metadata": {},
   "source": [
    "Ci-dessous, on crée une variable *nouvelAge* et on lui affecte la valeur de la variable *age* augmentée de 1. Puis, on affiche le contenu de la variable *nouvelAge*"
   ]
  },
  {
   "cell_type": "code",
   "execution_count": null,
   "metadata": {
    "collapsed": true
   },
   "outputs": [],
   "source": [
    "nouvelAge = age + 1"
   ]
  },
  {
   "cell_type": "code",
   "execution_count": null,
   "metadata": {
    "collapsed": false
   },
   "outputs": [],
   "source": [
    "print(nouvelAge)"
   ]
  },
  {
   "cell_type": "markdown",
   "metadata": {},
   "source": [
    "Maintenant, on va demander une valeur à l'utilisateur. Le premier exemple ne fonctionne pas (rappel : il est là pour vous montrer à quoi ressemble un message d'erreur). Le second fonctionne : il demande une valeur à l'utilisateur, stocke cette valeur dans la variable *a*, puis affiche la valeur contenue dans la variable *a*. "
   ]
  },
  {
   "cell_type": "code",
   "execution_count": null,
   "metadata": {
    "collapsed": false,
    "scrolled": true
   },
   "outputs": [],
   "source": [
    "input(a)"
   ]
  },
  {
   "cell_type": "code",
   "execution_count": 8,
   "metadata": {
    "collapsed": false
   },
   "outputs": [
    {
     "name": "stdout",
     "output_type": "stream",
     "text": [
      "5\n",
      "5\n"
     ]
    }
   ],
   "source": [
    "a = input()\n",
    "print(a)"
   ]
  },
  {
   "cell_type": "markdown",
   "metadata": {},
   "source": [
    "Lorsque l'on essaie d'afficher le résultat de *a* multiplié par 3, on obtient un résultat curieux... C'est parce que Python n'a pas compris que *5* est un entier. Ce nigaud pense que c'est une chaîne de caractères, et l'affiche trois fois de suite. "
   ]
  },
  {
   "cell_type": "code",
   "execution_count": 9,
   "metadata": {
    "collapsed": false
   },
   "outputs": [
    {
     "name": "stdout",
     "output_type": "stream",
     "text": [
      "555\n"
     ]
    }
   ],
   "source": [
    "print(a*3)"
   ]
  },
  {
   "cell_type": "markdown",
   "metadata": {},
   "source": [
    "Pour dire à Python que la valeur saisie est un entier, on peut lui préciser au moment de la saisie... Et ça fonctionne pareil pour les floats (les flottants, i.e. les nombres à virgules). "
   ]
  },
  {
   "cell_type": "code",
   "execution_count": 14,
   "metadata": {
    "collapsed": false
   },
   "outputs": [
    {
     "name": "stdout",
     "output_type": "stream",
     "text": [
      "35\n"
     ]
    }
   ],
   "source": [
    "b = int(input())\n",
    "\n",
    "print(b*5)"
   ]
  },
  {
   "cell_type": "markdown",
   "metadata": {},
   "source": [
    "**Exercice 1.** Écrire un algorithme qui demande à l'utilisateur le rayon d'un cercle et qui affiche sur la **sortie standard** son  diamètre, son périmètre et son aire. "
   ]
  },
  {
   "cell_type": "code",
   "execution_count": 17,
   "metadata": {
    "collapsed": false
   },
   "outputs": [
    {
     "name": "stdout",
     "output_type": "stream",
     "text": [
      "Rayon du cercle ?5\n",
      "Diametre du cercle = 10 cm\n",
      "Périmetre du cercle = 31.400000000000002 cm\n",
      "Aire du cercle =  78.5 cm²\n"
     ]
    }
   ],
   "source": [
    "r_cercle = int(input (\"Rayon du cercle ?\"))\n",
    "pi = 3.14\n",
    "d_cercle = r_cercle *2\n",
    "p_cercle =pi*d_cercle\n",
    "a_cercle = pi*r_cercle*r_cercle\n",
    "print(\"Diametre du cercle =\", d_cercle, \"cm\")\n",
    "print(\"Périmetre du cercle =\", p_cercle, \"cm\")\n",
    "print(\"Aire du cercle = \", a_cercle, \"cm²\")\n"
   ]
  },
  {
   "cell_type": "markdown",
   "metadata": {},
   "source": [
    "Dans ce premier exercice, on a appris plein de choses : \n",
    "* Comment bien nommer ses variables (pas d'accents, pas d'espaces, pas de caractères spéciaux)\n",
    "* Comment afficher plusieurs choses dans un seul print (des chaînes de caractères et des variables)\n",
    "* Comment utiliser des flotants "
   ]
  },
  {
   "cell_type": "markdown",
   "metadata": {},
   "source": [
    "**Exercice 2.** Écrire un petit programme qui calcule les racines d'un polynôme du second degré. "
   ]
  },
  {
   "cell_type": "code",
   "execution_count": 27,
   "metadata": {
    "collapsed": false
   },
   "outputs": [
    {
     "name": "stdout",
     "output_type": "stream",
     "text": [
      "1\n",
      "8\n",
      "1\n",
      "60\n",
      "2 solutions :  -7.872983346207417  et  -0.12701665379258298\n"
     ]
    }
   ],
   "source": [
    "a = int(input())\n",
    "b = int(input())\n",
    "c = int(input())\n",
    "delt = b*b-4*a*c\n",
    "print (delt)\n",
    "if delt < 0:\n",
    "    print (\"Aucune solution\")\n",
    "    \n",
    "elif delt > 0:\n",
    "    print (\"2 solutions : \", (-b-delt**0.5)/2*a, \" et \", (-b+delt**0.5)/2*a)\n",
    "    \n",
    "else:\n",
    "           print (\"une seule solution :  \", -b/2*a)"
   ]
  },
  {
   "cell_type": "markdown",
   "metadata": {},
   "source": [
    "Dans cet exercice, on a à nouveau appris plein de choses : \n",
    "* Comment utiliser les puissances \n",
    "* Le rôle de l'indentation \n",
    "* La notion de condition \n",
    "\n",
    "On a encore des problèmes : par exemple, comment faire une vraie racine carré... mais ça aussi c'est une autre histoire. "
   ]
  }
 ],
 "metadata": {
  "kernelspec": {
   "display_name": "Python 3",
   "language": "python",
   "name": "python3"
  },
  "language_info": {
   "codemirror_mode": {
    "name": "ipython",
    "version": 3
   },
   "file_extension": ".py",
   "mimetype": "text/x-python",
   "name": "python",
   "nbconvert_exporter": "python",
   "pygments_lexer": "ipython3",
   "version": "3.4.3"
  }
 },
 "nbformat": 4,
 "nbformat_minor": 0
}
