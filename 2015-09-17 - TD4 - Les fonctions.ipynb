{
 "cells": [
  {
   "cell_type": "markdown",
   "metadata": {},
   "source": [
    "Au début du TD, nous avons :\n",
    "* Fait un récapitulatif de tout ce que nous avions vu jusque là, à savoir : les variables, les conditions, les boucles, un peu de logique et quelques rappels sur la syntaxe Python. \n",
    "* Fait une petite interro (faire une boucle pour chaque étudiant et afficher \"Admis\", \"Recalé\" ou \"Compensation\" en fonction de la note d'un étudiant). \n",
    "\n",
    "Ensuite, nous avons introduit le concept de **fonction**."
   ]
  },
  {
   "cell_type": "markdown",
   "metadata": {},
   "source": [
    "**Exercice 1.** Écrire la signature de la fonction **afficherMesuresCercle**"
   ]
  },
  {
   "cell_type": "code",
   "execution_count": 1,
   "metadata": {
    "collapsed": false
   },
   "outputs": [],
   "source": [
    "def afficherMesuresCercle(r) :\n",
    "    #entree : r, entier\n",
    "    #sortie :\n",
    "    #pre cond : r>0\n",
    "    #post cond : affiche sur sortie standard diametre, perimetre et aire du cercle\n",
    "    print(\"Ici, on afficherait les dimensions demandées...\")"
   ]
  },
  {
   "cell_type": "code",
   "execution_count": 2,
   "metadata": {
    "collapsed": true
   },
   "outputs": [],
   "source": [
    "def polynomeDuSecondDegre(a, b, c):\n",
    "    #entree a, b ,c\n",
    "    #sortie \n",
    "    #pre cond a != 0; a, b et c entiers\n",
    "    #post cond afficher la ou les solutions s'il y en a\n",
    "    print(\"Ici, on afficherait les solutions si elles existent...\")"
   ]
  },
  {
   "cell_type": "code",
   "execution_count": 8,
   "metadata": {
    "collapsed": false
   },
   "outputs": [
    {
     "name": "stdout",
     "output_type": "stream",
     "text": [
      "14\n"
     ]
    }
   ],
   "source": [
    "def additionnerDeuxNombres(a, b):\n",
    "    #entree\n",
    "    #sortie\n",
    "    #pre cond\n",
    "    #post cond\n",
    "    return (a + b)\n",
    "\n",
    "xa = 9\n",
    "xb = 5\n",
    "xc = additionnerDeuxNombres(xa, xb)\n",
    "print(xc)"
   ]
  },
  {
   "cell_type": "code",
   "execution_count": 9,
   "metadata": {
    "collapsed": false
   },
   "outputs": [
    {
     "name": "stdout",
     "output_type": "stream",
     "text": [
      "289\n"
     ]
    }
   ],
   "source": [
    "def carreNombre(a):\n",
    "    #entree a réel\n",
    "    #sortie b réel positif\n",
    "    #pre cond a est le nombre à mettre au carré\n",
    "    #post cond on renvoie b, le carré de a\n",
    "    b = a**2\n",
    "    return b\n",
    "print(carreNombre(17))"
   ]
  }
 ],
 "metadata": {
  "kernelspec": {
   "display_name": "Python 3",
   "language": "python",
   "name": "python3"
  },
  "language_info": {
   "codemirror_mode": {
    "name": "ipython",
    "version": 3
   },
   "file_extension": ".py",
   "mimetype": "text/x-python",
   "name": "python",
   "nbconvert_exporter": "python",
   "pygments_lexer": "ipython3",
   "version": "3.4.3"
  }
 },
 "nbformat": 4,
 "nbformat_minor": 0
}
