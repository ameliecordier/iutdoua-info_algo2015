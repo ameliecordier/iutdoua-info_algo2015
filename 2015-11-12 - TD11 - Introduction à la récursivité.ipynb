{
 "cells": [
  {
   "cell_type": "markdown",
   "metadata": {},
   "source": [
    "Nous avons commencé par corriger le DS. Une correction proposée par P.A. Champin est disponible à cette adresse : https://github.com/pchampin/2015-algo-notes/blob/master/2015-11-19%20Correction%20du%20DS.ipynb"
   ]
  },
  {
   "cell_type": "markdown",
   "metadata": {},
   "source": [
    "Durant ce TD nous avons fait une introduction à la récursivité en jouant à deux jeux : \n",
    "* Lightbot : http://lightbot.com/\n",
    "* Robozzle : http://www.robozzle.com/"
   ]
  },
  {
   "cell_type": "markdown",
   "metadata": {},
   "source": [
    "Ensuite, nous avons appliqué nos toutes nouvelles connaissances sur la récursivité en implémentant factorielle. Pour rappel, factorielle(n) = 1 x 2 x ... x n. Autrement dit (en récursif) : factorielle(n) = n x factorielle (n - 1), tout en sachant que factorielle(1) = 1. C'est cette forme que l'on va utiliser pour écrire l'algorithme récursif de factiorielle. "
   ]
  },
  {
   "cell_type": "code",
   "execution_count": 1,
   "metadata": {
    "collapsed": false
   },
   "outputs": [
    {
     "data": {
      "text/plain": [
       "24"
      ]
     },
     "execution_count": 1,
     "metadata": {},
     "output_type": "execute_result"
    }
   ],
   "source": [
    "def fact(n):\n",
    "    if n == 1: \n",
    "        f = 1\n",
    "    else:\n",
    "        f = n * fact(n-1)\n",
    "    return f\n",
    "\n",
    "fact(4)"
   ]
  },
  {
   "cell_type": "markdown",
   "metadata": {},
   "source": [
    "On peut comprendre dans quel ordre s'effectuent les appels récursifs en observant le comportement de factorielle dans PythonTutor par exemple. "
   ]
  },
  {
   "cell_type": "code",
   "execution_count": 2,
   "metadata": {
    "collapsed": true
   },
   "outputs": [],
   "source": [
    "%load_ext tutormagic"
   ]
  },
  {
   "cell_type": "code",
   "execution_count": 3,
   "metadata": {
    "collapsed": false
   },
   "outputs": [
    {
     "data": {
      "text/html": [
       "\n",
       "        <iframe\n",
       "            width=\"90%\"\n",
       "            height=\"350\"\n",
       "            src=\"http://pythontutor.com/iframe-embed.html#code=def%20facto%28n%29%3A%0A%20%20%20%20if%20n%20%3D%3D%201%3A%20%0A%20%20%20%20%20%20%20%20f%20%3D%201%0A%20%20%20%20else%3A%0A%20%20%20%20%20%20%20%20f%20%3D%20n%20%2A%20facto%28n-1%29%0A%20%20%20%20%20%20%20%20print%28%22Ceci%20est%20la%20valeur%20de%20n%20au%20moment%20du%20traitement%20des%20appels%20%3A%22%20%2B%20str%28n%29%29%0A%20%20%20%20return%20f%0A%0Afacto%284%29&origin=opt-frontend.js&cumulative=false&heapPrimitives=false&textReferences=false&py=3&rawInputLstJSON=%5B%5D&curInstr=0&codeDivWidth=50%25&codeDivHeight=100%25\"\n",
       "            frameborder=\"0\"\n",
       "            allowfullscreen\n",
       "        ></iframe>\n",
       "        "
      ],
      "text/plain": [
       "<IPython.lib.display.IFrame at 0x7f690233dac8>"
      ]
     },
     "metadata": {},
     "output_type": "display_data"
    }
   ],
   "source": [
    "%%tutor --lang python3\n",
    "def facto(n):\n",
    "    if n == 1: \n",
    "        f = 1\n",
    "    else:\n",
    "        f = n * facto(n-1)\n",
    "        print(\"Ceci est la valeur de n au moment du traitement des appels :\" + str(n))\n",
    "    return f\n",
    "\n",
    "facto(4)"
   ]
  }
 ],
 "metadata": {
  "kernelspec": {
   "display_name": "Python 3",
   "language": "python",
   "name": "python3"
  },
  "language_info": {
   "codemirror_mode": {
    "name": "ipython",
    "version": 3
   },
   "file_extension": ".py",
   "mimetype": "text/x-python",
   "name": "python",
   "nbconvert_exporter": "python",
   "pygments_lexer": "ipython3",
   "version": "3.4.3"
  }
 },
 "nbformat": 4,
 "nbformat_minor": 0
}
